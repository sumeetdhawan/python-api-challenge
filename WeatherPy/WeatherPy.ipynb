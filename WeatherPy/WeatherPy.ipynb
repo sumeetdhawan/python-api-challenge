{
 "cells": [
  {
   "cell_type": "markdown",
   "metadata": {},
   "source": [
    "# WeatherPy\n",
    "----\n",
    "\n",
    "#### Note\n",
    "* Instructions have been included for each segment. You do not have to follow them exactly, but they are included to help you think through the steps."
   ]
  },
  {
   "cell_type": "code",
   "execution_count": 9,
   "metadata": {},
   "outputs": [],
   "source": [
    "# Dependencies and Setup\n",
    "import matplotlib.pyplot as plt\n",
    "import pandas as pd\n",
    "import numpy as np\n",
    "import requests\n",
    "import time\n",
    "from scipy.stats import linregress\n",
    "from datetime import datetime\n",
    "\n",
    "# Import API key\n",
    "from api_keys import weather_api_key\n",
    "\n",
    "# Incorporated citipy to determine city based on latitude and longitude\n",
    "from citipy import citipy\n",
    "\n",
    "# Output File (CSV)\n",
    "output_data_file = \"output_data/cities.csv\"\n",
    "\n",
    "# Range of latitudes and longitudes\n",
    "lat_range = (-90, 90)\n",
    "lng_range = (-180, 180)"
   ]
  },
  {
   "cell_type": "markdown",
   "metadata": {},
   "source": [
    "## Generate Cities List"
   ]
  },
  {
   "cell_type": "code",
   "execution_count": 2,
   "metadata": {},
   "outputs": [
    {
     "data": {
      "text/plain": [
       "619"
      ]
     },
     "execution_count": 2,
     "metadata": {},
     "output_type": "execute_result"
    }
   ],
   "source": [
    "# List for holding lat_lngs and cities\n",
    "lat_lngs = []\n",
    "cities = []\n",
    "\n",
    "# Create a set of random lat and lng combinations\n",
    "lats = np.random.uniform(low=-90.000, high=90.000, size=1500)\n",
    "lngs = np.random.uniform(low=-180.000, high=180.000, size=1500)\n",
    "lat_lngs = zip(lats, lngs)\n",
    "\n",
    "# Identify nearest city for each lat, lng combination\n",
    "for lat_lng in lat_lngs:\n",
    "    city = citipy.nearest_city(lat_lng[0], lat_lng[1]).city_name\n",
    "    \n",
    "    # If the city is unique, then add it to a our cities list\n",
    "    if city not in cities:\n",
    "        cities.append(city)\n",
    "\n",
    "# Print the city count to confirm sufficient count\n",
    "len(cities)"
   ]
  },
  {
   "cell_type": "markdown",
   "metadata": {},
   "source": [
    "### Perform API Calls\n",
    "* Perform a weather check on each city using a series of successive API calls.\n",
    "* Include a print log of each city as it'sbeing processed (with the city number and city name).\n"
   ]
  },
  {
   "cell_type": "code",
   "execution_count": 3,
   "metadata": {},
   "outputs": [
    {
     "name": "stdout",
     "output_type": "stream",
     "text": [
      "Beginning Data Retrieval\n",
      "-----------------------------\n",
      "Processing Record 1: sentyabrskiy\n",
      "City not found. Skipping...\n",
      "Processing Record 2: barrow\n",
      "Processing Record 3: ushuaia\n",
      "Processing Record 4: tsihombe\n",
      "City not found. Skipping...\n",
      "Processing Record 5: bluff\n",
      "Processing Record 6: vaini\n",
      "Processing Record 7: kapit\n",
      "Processing Record 8: kloulklubed\n",
      "Processing Record 9: ilulissat\n",
      "Processing Record 10: puerto ayora\n",
      "Processing Record 11: lososina\n",
      "Processing Record 12: albany\n",
      "Processing Record 13: tuktoyaktuk\n",
      "Processing Record 14: beyneu\n",
      "Processing Record 15: punta arenas\n",
      "Processing Record 16: amderma\n",
      "City not found. Skipping...\n",
      "Processing Record 17: ewa beach\n",
      "Processing Record 18: busselton\n",
      "Processing Record 19: new norfolk\n",
      "Processing Record 20: kaitangata\n",
      "Processing Record 21: galgani\n",
      "City not found. Skipping...\n",
      "Processing Record 22: ust-nera\n",
      "Processing Record 23: huetamo\n",
      "City not found. Skipping...\n",
      "Processing Record 24: barga\n",
      "Processing Record 25: chokurdakh\n",
      "Processing Record 26: mar del plata\n",
      "Processing Record 27: kahului\n",
      "Processing Record 28: kushima\n",
      "Processing Record 29: tasiilaq\n",
      "Processing Record 30: mangai\n",
      "Processing Record 31: clyde river\n",
      "Processing Record 32: ammon\n",
      "Processing Record 33: qaanaaq\n",
      "Processing Record 34: souillac\n",
      "Processing Record 35: rikitea\n",
      "Processing Record 36: shitkino\n",
      "Processing Record 37: port blair\n",
      "Processing Record 38: manicore\n",
      "Processing Record 39: kattivakkam\n",
      "Processing Record 40: nizhneyansk\n",
      "City not found. Skipping...\n",
      "Processing Record 41: hermanus\n",
      "Processing Record 42: san vicente\n",
      "Processing Record 43: bredasdorp\n",
      "Processing Record 44: anori\n",
      "Processing Record 45: dhandhuka\n",
      "Processing Record 46: svetlaya\n",
      "Processing Record 47: luderitz\n",
      "Processing Record 48: te anau\n",
      "Processing Record 49: carnarvon\n",
      "Processing Record 50: vardo\n",
      "Processing Record 51: tiksi\n",
      "Processing Record 52: san quintin\n",
      "Processing Record 53: mataura\n",
      "Processing Record 54: upernavik\n",
      "Processing Record 55: bud\n",
      "Processing Record 56: vostok\n",
      "Processing Record 57: batagay-alyta\n",
      "Processing Record 58: codrington\n",
      "Processing Record 59: honiara\n",
      "Processing Record 60: riohacha\n",
      "Processing Record 61: tucupita\n",
      "Processing Record 62: nicoya\n",
      "Processing Record 63: avera\n",
      "Processing Record 64: paamiut\n",
      "Processing Record 65: maimon\n",
      "City not found. Skipping...\n",
      "Processing Record 66: alyangula\n",
      "Processing Record 67: namibe\n",
      "Processing Record 68: tezu\n",
      "Processing Record 69: rudraprayag\n",
      "Processing Record 70: atuona\n",
      "Processing Record 71: pisco\n",
      "Processing Record 72: taolanaro\n",
      "City not found. Skipping...\n",
      "Processing Record 73: esperance\n",
      "Processing Record 74: kyabe\n",
      "Processing Record 75: wamba\n",
      "Processing Record 76: phan thiet\n",
      "Processing Record 77: xam nua\n",
      "Processing Record 78: belushya guba\n",
      "City not found. Skipping...\n",
      "Processing Record 79: zhireken\n",
      "Processing Record 80: sitka\n",
      "Processing Record 81: sindor\n",
      "Processing Record 82: sur\n",
      "Processing Record 83: kapaa\n",
      "Processing Record 84: klaksvik\n",
      "Processing Record 85: mahanoro\n",
      "Processing Record 86: naze\n",
      "Processing Record 87: jamestown\n",
      "Processing Record 88: bethel\n",
      "Processing Record 89: marsa matruh\n",
      "Processing Record 90: airai\n",
      "Processing Record 91: itoman\n",
      "Processing Record 92: takoradi\n",
      "Processing Record 93: illoqqortoormiut\n",
      "City not found. Skipping...\n",
      "Processing Record 94: nanakuli\n",
      "Processing Record 95: marawi\n",
      "Processing Record 96: longyearbyen\n",
      "Processing Record 97: avarua\n",
      "Processing Record 98: marrakesh\n",
      "Processing Record 99: bandarban\n",
      "Processing Record 100: lavrentiya\n",
      "Processing Record 101: halifax\n",
      "Processing Record 102: hithadhoo\n",
      "Processing Record 103: samfya\n",
      "Processing Record 104: salinas\n",
      "Processing Record 105: iraucuba\n",
      "Processing Record 106: tumannyy\n",
      "City not found. Skipping...\n",
      "Processing Record 107: cheremukhovo\n",
      "Processing Record 108: sorsk\n",
      "Processing Record 109: saint george\n",
      "Processing Record 110: kavieng\n",
      "Processing Record 111: yellowknife\n",
      "Processing Record 112: cape town\n",
      "Processing Record 113: lasa\n",
      "Processing Record 114: east london\n",
      "Processing Record 115: arraial do cabo\n",
      "Processing Record 116: ayame\n",
      "Processing Record 117: koungou\n",
      "Processing Record 118: baruun-urt\n",
      "Processing Record 119: ilhabela\n",
      "Processing Record 120: conceicao do araguaia\n",
      "Processing Record 121: tuy hoa\n",
      "Processing Record 122: saint-philippe\n",
      "Processing Record 123: haines junction\n",
      "Processing Record 124: butaritari\n",
      "Processing Record 125: saint-augustin\n",
      "Processing Record 126: mitsamiouli\n",
      "Processing Record 127: paracuru\n",
      "Processing Record 128: port alfred\n",
      "Processing Record 129: oil city\n",
      "Processing Record 130: constitucion\n",
      "Processing Record 131: oleksandrivka\n",
      "Processing Record 132: chitral\n",
      "Processing Record 133: srednekolymsk\n",
      "Processing Record 134: hay river\n",
      "Processing Record 135: hobart\n",
      "Processing Record 136: pevek\n",
      "Processing Record 137: choix\n",
      "Processing Record 138: izhma\n",
      "Processing Record 139: coxim\n",
      "Processing Record 140: zhigansk\n",
      "Processing Record 141: bandarbeyla\n",
      "Processing Record 142: chicama\n",
      "Processing Record 143: leh\n",
      "Processing Record 144: hofn\n",
      "Processing Record 145: kjollefjord\n",
      "Processing Record 146: ambodifototra\n",
      "City not found. Skipping...\n",
      "Processing Record 147: rocha\n",
      "Processing Record 148: sorvag\n",
      "City not found. Skipping...\n",
      "Processing Record 149: bograd\n",
      "Processing Record 150: katobu\n",
      "Processing Record 151: mayya\n",
      "Processing Record 152: ibra\n",
      "Processing Record 153: victoria\n",
      "Processing Record 154: dudinka\n",
      "Processing Record 155: ponta do sol\n",
      "Processing Record 156: champerico\n",
      "Processing Record 157: camacari\n",
      "Processing Record 158: rorvik\n",
      "Processing Record 159: hilo\n",
      "Processing Record 160: sasina\n",
      "Processing Record 161: makakilo city\n",
      "Processing Record 162: nikolskoye\n",
      "Processing Record 163: byron bay\n",
      "Processing Record 164: barentsburg\n",
      "City not found. Skipping...\n",
      "Processing Record 165: maceio\n",
      "Processing Record 166: saint-francois\n",
      "Processing Record 167: autun\n",
      "Processing Record 168: puerto del rosario\n",
      "Processing Record 169: gazanjyk\n",
      "Processing Record 170: boueni\n",
      "Processing Record 171: sioux lookout\n",
      "Processing Record 172: matara\n",
      "Processing Record 173: vaitape\n",
      "Processing Record 174: labytnangi\n",
      "Processing Record 175: chapais\n",
      "Processing Record 176: bengkulu\n",
      "Processing Record 177: flinders\n",
      "Processing Record 178: sampit\n",
      "Processing Record 179: pestravka\n",
      "Processing Record 180: babanusah\n",
      "City not found. Skipping...\n",
      "Processing Record 181: katsuura\n",
      "Processing Record 182: riyadh\n",
      "Processing Record 183: chulman\n",
      "Processing Record 184: abha\n",
      "Processing Record 185: saldanha\n",
      "Processing Record 186: menongue\n",
      "Processing Record 187: pyaozerskiy\n",
      "Processing Record 188: piedade\n",
      "Processing Record 189: anchorage\n",
      "Processing Record 190: ottobrunn\n",
      "Processing Record 191: kerouane\n",
      "Processing Record 192: ucluelet\n",
      "Processing Record 193: ciudad bolivar\n",
      "Processing Record 194: birin\n",
      "Processing Record 195: biloela\n",
      "Processing Record 196: ranong\n",
      "Processing Record 197: mocuba\n",
      "Processing Record 198: hirara\n",
      "Processing Record 199: machinga\n",
      "Processing Record 200: mandurah\n",
      "Processing Record 201: nome\n",
      "Processing Record 202: alta floresta\n",
      "Processing Record 203: wanning\n",
      "Processing Record 204: biak\n",
      "Processing Record 205: adrar\n",
      "Processing Record 206: grand gaube\n",
      "Processing Record 207: chagda\n",
      "City not found. Skipping...\n",
      "Processing Record 208: palana\n",
      "Processing Record 209: alotau\n",
      "City not found. Skipping...\n",
      "Processing Record 210: padang\n",
      "Processing Record 211: kyshtym\n",
      "Processing Record 212: karasjok\n",
      "Processing Record 213: college\n",
      "Processing Record 214: nanortalik\n",
      "Processing Record 215: zhezkazgan\n",
      "Processing Record 216: dikson\n",
      "Processing Record 217: lebu\n",
      "Processing Record 218: leningradskiy\n",
      "Processing Record 219: port lincoln\n",
      "Processing Record 220: castro\n",
      "Processing Record 221: a\n",
      "City not found. Skipping...\n",
      "Processing Record 222: coquimbo\n",
      "Processing Record 223: hasaki\n",
      "Processing Record 224: terra santa\n",
      "Processing Record 225: port townsend\n",
      "Processing Record 226: ust-kut\n",
      "Processing Record 227: moyo\n",
      "Processing Record 228: quchan\n",
      "Processing Record 229: xuddur\n",
      "Processing Record 230: nhulunbuy\n",
      "Processing Record 231: havelock\n",
      "Processing Record 232: rincon\n",
      "Processing Record 233: kabin buri\n",
      "Processing Record 234: margate\n",
      "Processing Record 235: vladivostok\n",
      "Processing Record 236: orlik\n",
      "Processing Record 237: athabasca\n",
      "Processing Record 238: mecca\n",
      "Processing Record 239: port-cartier\n",
      "Processing Record 240: storforshei\n",
      "Processing Record 241: tarata\n",
      "Processing Record 242: roshchino\n",
      "Processing Record 243: axim\n"
     ]
    },
    {
     "name": "stdout",
     "output_type": "stream",
     "text": [
      "Processing Record 244: husavik\n",
      "Processing Record 245: dubenskiy\n",
      "City not found. Skipping...\n",
      "Processing Record 246: bathsheba\n",
      "Processing Record 247: omaha\n",
      "Processing Record 248: tutoia\n",
      "Processing Record 249: thompson\n",
      "Processing Record 250: olafsvik\n",
      "Processing Record 251: mongo\n",
      "Processing Record 252: solovetskiy\n",
      "City not found. Skipping...\n",
      "Processing Record 253: quimper\n",
      "Processing Record 254: totness\n",
      "Processing Record 255: mount gambier\n",
      "Processing Record 256: ixtapa\n",
      "Processing Record 257: funadhoo\n",
      "Processing Record 258: whithorn\n",
      "Processing Record 259: languyan\n",
      "Processing Record 260: carmen\n",
      "Processing Record 261: tuatapere\n",
      "Processing Record 262: pemba\n",
      "Processing Record 263: nipawin\n",
      "Processing Record 264: viana\n",
      "Processing Record 265: poltavka\n",
      "Processing Record 266: salalah\n",
      "Processing Record 267: acapulco\n",
      "Processing Record 268: sola\n",
      "Processing Record 269: xining\n",
      "Processing Record 270: lompoc\n",
      "Processing Record 271: panama city\n",
      "Processing Record 272: georgetown\n",
      "Processing Record 273: almonte\n",
      "Processing Record 274: najran\n",
      "Processing Record 275: provideniya\n",
      "Processing Record 276: ngoro\n",
      "Processing Record 277: grand river south east\n",
      "City not found. Skipping...\n",
      "Processing Record 278: maiduguri\n",
      "Processing Record 279: portland\n",
      "Processing Record 280: sorland\n",
      "Processing Record 281: leshukonskoye\n",
      "Processing Record 282: palabuhanratu\n",
      "City not found. Skipping...\n",
      "Processing Record 283: mogadishu\n",
      "Processing Record 284: manuk mangkaw\n",
      "Processing Record 285: khatanga\n",
      "Processing Record 286: ketchikan\n",
      "Processing Record 287: xingcheng\n",
      "Processing Record 288: moose factory\n",
      "Processing Record 289: shimoda\n",
      "Processing Record 290: dombarovskiy\n",
      "Processing Record 291: omsukchan\n",
      "Processing Record 292: manakara\n",
      "Processing Record 293: fuling\n",
      "Processing Record 294: wadhwan\n",
      "City not found. Skipping...\n",
      "Processing Record 295: rochelle\n",
      "Processing Record 296: jurm\n",
      "Processing Record 297: mayo\n",
      "Processing Record 298: cambe\n",
      "Processing Record 299: comodoro rivadavia\n",
      "Processing Record 300: grand forks\n",
      "Processing Record 301: aitape\n",
      "Processing Record 302: labuhan\n",
      "Processing Record 303: olga\n",
      "Processing Record 304: bambous virieux\n",
      "Processing Record 305: soe\n",
      "Processing Record 306: kandrian\n",
      "Processing Record 307: cayon\n",
      "Processing Record 308: hobyo\n",
      "Processing Record 309: hami\n",
      "Processing Record 310: morondava\n",
      "Processing Record 311: terrace bay\n",
      "Processing Record 312: svobodnyy\n",
      "Processing Record 313: abu dhabi\n",
      "Processing Record 314: kibre mengist\n",
      "Processing Record 315: buin\n",
      "Processing Record 316: olinda\n",
      "Processing Record 317: fortuna\n",
      "Processing Record 318: muros\n",
      "Processing Record 319: guerrero negro\n",
      "Processing Record 320: geraldton\n",
      "Processing Record 321: san carlos\n",
      "Processing Record 322: saint anthony\n",
      "Processing Record 323: yar-sale\n",
      "Processing Record 324: pastavy\n",
      "Processing Record 325: salinopolis\n",
      "Processing Record 326: san cristobal\n",
      "Processing Record 327: tsogni\n",
      "Processing Record 328: chuy\n",
      "Processing Record 329: sena madureira\n",
      "Processing Record 330: goderich\n",
      "Processing Record 331: lakefield\n",
      "Processing Record 332: chimbote\n",
      "Processing Record 333: alibag\n",
      "Processing Record 334: louisbourg\n",
      "City not found. Skipping...\n",
      "Processing Record 335: general salgado\n",
      "Processing Record 336: les escoumins\n",
      "Processing Record 337: warqla\n",
      "City not found. Skipping...\n",
      "Processing Record 338: petropavlovskoye\n",
      "Processing Record 339: machilipatnam\n",
      "Processing Record 340: kodiak\n",
      "Processing Record 341: hambantota\n",
      "Processing Record 342: pauini\n",
      "Processing Record 343: road town\n",
      "Processing Record 344: trzcianka\n",
      "Processing Record 345: ust-kuyga\n",
      "Processing Record 346: vao\n",
      "Processing Record 347: giehun\n",
      "Processing Record 348: watsa\n",
      "Processing Record 349: banyo\n",
      "Processing Record 350: lalomanu\n",
      "City not found. Skipping...\n",
      "Processing Record 351: acarau\n",
      "Processing Record 352: itaituba\n",
      "Processing Record 353: murwillumbah\n",
      "Processing Record 354: san patricio\n",
      "Processing Record 355: zhengjiatun\n",
      "Processing Record 356: yagodnoye\n",
      "Processing Record 357: haibowan\n",
      "City not found. Skipping...\n",
      "Processing Record 358: ulladulla\n",
      "Processing Record 359: kyakhta\n",
      "Processing Record 360: lakkion\n",
      "Processing Record 361: flin flon\n",
      "Processing Record 362: mys shmidta\n",
      "City not found. Skipping...\n",
      "Processing Record 363: kirakira\n",
      "Processing Record 364: alice springs\n",
      "Processing Record 365: vanavara\n",
      "Processing Record 366: starkville\n",
      "Processing Record 367: samusu\n",
      "City not found. Skipping...\n",
      "Processing Record 368: nainpur\n",
      "Processing Record 369: beaverlodge\n",
      "Processing Record 370: san ramon\n",
      "Processing Record 371: yulara\n",
      "Processing Record 372: awjilah\n",
      "Processing Record 373: ulaangom\n",
      "Processing Record 374: kulhudhuffushi\n",
      "Processing Record 375: okhotsk\n",
      "Processing Record 376: tahoua\n",
      "Processing Record 377: bonavista\n",
      "Processing Record 378: sisimiut\n",
      "Processing Record 379: kieta\n",
      "Processing Record 380: beringovskiy\n",
      "Processing Record 381: faya\n",
      "Processing Record 382: bubaque\n",
      "Processing Record 383: patea\n",
      "Processing Record 384: rio gallegos\n",
      "Processing Record 385: port elizabeth\n",
      "Processing Record 386: vavuniya\n",
      "Processing Record 387: bohicon\n",
      "Processing Record 388: zwedru\n",
      "Processing Record 389: barcelos\n",
      "Processing Record 390: simi\n",
      "Processing Record 391: thinadhoo\n",
      "Processing Record 392: lumphat\n",
      "Processing Record 393: balanacan\n",
      "Processing Record 394: beloha\n",
      "Processing Record 395: gerash\n",
      "Processing Record 396: attawapiskat\n",
      "City not found. Skipping...\n",
      "Processing Record 397: narsaq\n",
      "Processing Record 398: saint-pierre\n",
      "Processing Record 399: muisne\n",
      "Processing Record 400: siemiatycze\n",
      "Processing Record 401: barra mansa\n",
      "Processing Record 402: tonder\n",
      "Processing Record 403: hervey bay\n",
      "Processing Record 404: aklavik\n",
      "Processing Record 405: port macquarie\n",
      "Processing Record 406: grindavik\n",
      "Processing Record 407: iguape\n",
      "Processing Record 408: lorengau\n",
      "Processing Record 409: la ronge\n",
      "Processing Record 410: vila velha\n",
      "Processing Record 411: dingle\n",
      "Processing Record 412: faanui\n",
      "Processing Record 413: mahebourg\n",
      "Processing Record 414: filadelfia\n",
      "Processing Record 415: marsaxlokk\n",
      "Processing Record 416: lokosovo\n",
      "Processing Record 417: camacha\n",
      "Processing Record 418: rio grande\n",
      "Processing Record 419: zhanaozen\n",
      "Processing Record 420: tabou\n",
      "Processing Record 421: chimbarongo\n",
      "Processing Record 422: yeppoon\n",
      "Processing Record 423: sembe\n",
      "Processing Record 424: yonago\n",
      "Processing Record 425: liuhe\n",
      "Processing Record 426: aban\n",
      "Processing Record 427: coos bay\n",
      "Processing Record 428: saskylakh\n",
      "Processing Record 429: sandwick\n",
      "Processing Record 430: plast\n",
      "Processing Record 431: chokwe\n",
      "Processing Record 432: khromtau\n",
      "Processing Record 433: oriximina\n",
      "Processing Record 434: quanzhou\n",
      "Processing Record 435: caravelas\n",
      "Processing Record 436: cidreira\n",
      "Processing Record 437: villanueva de la serena\n",
      "Processing Record 438: waingapu\n",
      "Processing Record 439: coihaique\n",
      "Processing Record 440: badhni kalan\n",
      "Processing Record 441: northam\n",
      "Processing Record 442: aliwal north\n",
      "Processing Record 443: tecolutla\n",
      "Processing Record 444: sao felix do xingu\n",
      "Processing Record 445: santa lucia\n",
      "Processing Record 446: pacifica\n",
      "Processing Record 447: kharp\n",
      "Processing Record 448: bereznik\n",
      "Processing Record 449: khandyga\n",
      "Processing Record 450: iqaluit\n",
      "Processing Record 451: vila\n",
      "Processing Record 452: kabompo\n",
      "Processing Record 453: marsada\n",
      "Processing Record 454: ballina\n",
      "Processing Record 455: nushki\n",
      "Processing Record 456: severo-yeniseyskiy\n",
      "Processing Record 457: ijaki\n",
      "City not found. Skipping...\n",
      "Processing Record 458: gusau\n",
      "Processing Record 459: dunedin\n",
      "Processing Record 460: yithion\n",
      "City not found. Skipping...\n",
      "Processing Record 461: bellavista\n",
      "Processing Record 462: jalu\n",
      "Processing Record 463: bani walid\n",
      "Processing Record 464: yarada\n",
      "Processing Record 465: el uvito\n",
      "Processing Record 466: naryan-mar\n",
      "Processing Record 467: taybad\n",
      "Processing Record 468: astana\n",
      "Processing Record 469: labutta\n",
      "City not found. Skipping...\n",
      "Processing Record 470: xinzhi\n",
      "Processing Record 471: itarema\n",
      "Processing Record 472: antofagasta\n",
      "Processing Record 473: broken hill\n",
      "Processing Record 474: pacific grove\n",
      "Processing Record 475: mount isa\n",
      "Processing Record 476: santa ana\n",
      "Processing Record 477: talnakh\n",
      "Processing Record 478: kapiri mposhi\n",
      "Processing Record 479: luwingu\n",
      "Processing Record 480: vacaria\n",
      "Processing Record 481: djenne\n",
      "Processing Record 482: coahuayana\n",
      "Processing Record 483: egvekinot\n"
     ]
    },
    {
     "name": "stdout",
     "output_type": "stream",
     "text": [
      "Processing Record 484: nassjo\n",
      "Processing Record 485: yanchukan\n",
      "City not found. Skipping...\n",
      "Processing Record 486: dwarka\n",
      "Processing Record 487: carauari\n",
      "Processing Record 488: camocim\n",
      "Processing Record 489: formosa\n",
      "Processing Record 490: severo-kurilsk\n",
      "Processing Record 491: yuzhno-yeniseyskiy\n",
      "City not found. Skipping...\n",
      "Processing Record 492: resistencia\n",
      "Processing Record 493: dori\n",
      "Processing Record 494: touros\n",
      "Processing Record 495: harper\n",
      "Processing Record 496: vidim\n",
      "Processing Record 497: senno\n",
      "Processing Record 498: lokhvytsya\n",
      "Processing Record 499: naugachhia\n",
      "Processing Record 500: bulaevo\n",
      "Processing Record 501: meybod\n",
      "Processing Record 502: nacala\n",
      "Processing Record 503: ozernovskiy\n",
      "Processing Record 504: dawson creek\n",
      "Processing Record 505: havoysund\n",
      "Processing Record 506: dongsheng\n",
      "Processing Record 507: umzimvubu\n",
      "City not found. Skipping...\n",
      "Processing Record 508: minab\n",
      "Processing Record 509: jacmel\n",
      "Processing Record 510: ilo\n",
      "Processing Record 511: mazatlan\n",
      "Processing Record 512: cabo san lucas\n",
      "Processing Record 513: gat\n",
      "Processing Record 514: hvide sande\n",
      "Processing Record 515: cherskiy\n",
      "Processing Record 516: gamba\n",
      "Processing Record 517: anadyr\n",
      "Processing Record 518: broome\n",
      "Processing Record 519: loukhi\n",
      "Processing Record 520: chapayevka\n",
      "Processing Record 521: pierre\n",
      "Processing Record 522: lazarev\n",
      "Processing Record 523: port hedland\n",
      "Processing Record 524: hoquiam\n",
      "Processing Record 525: kodinsk\n",
      "Processing Record 526: krasne\n",
      "Processing Record 527: khrebtovaya\n",
      "Processing Record 528: kemijarvi\n",
      "Processing Record 529: parras\n",
      "City not found. Skipping...\n",
      "Processing Record 530: kavaratti\n",
      "Processing Record 531: santiago del estero\n",
      "Processing Record 532: labuan\n",
      "Processing Record 533: changli\n",
      "Processing Record 534: kusye-aleksandrovskiy\n",
      "City not found. Skipping...\n",
      "Processing Record 535: vargem alta\n",
      "Processing Record 536: kargasok\n",
      "Processing Record 537: cabedelo\n",
      "Processing Record 538: mentok\n",
      "City not found. Skipping...\n",
      "Processing Record 539: cayenne\n",
      "Processing Record 540: rundu\n",
      "Processing Record 541: ahipara\n",
      "Processing Record 542: nuuk\n",
      "Processing Record 543: amga\n",
      "Processing Record 544: tazmalt\n",
      "Processing Record 545: samarai\n",
      "Processing Record 546: belyy yar\n",
      "Processing Record 547: tomatlan\n",
      "Processing Record 548: henties bay\n",
      "Processing Record 549: raahe\n",
      "Processing Record 550: fare\n",
      "Processing Record 551: ribeira grande\n",
      "Processing Record 552: norman wells\n",
      "Processing Record 553: omutinskoye\n",
      "City not found. Skipping...\n",
      "Processing Record 554: pedernales\n",
      "Processing Record 555: saryg-sep\n",
      "Processing Record 556: freeport\n",
      "Processing Record 557: eureka\n",
      "Processing Record 558: general roca\n",
      "Processing Record 559: beidao\n",
      "Processing Record 560: lazaro cardenas\n",
      "Processing Record 561: aracaju\n",
      "Processing Record 562: mehamn\n",
      "Processing Record 563: dembi dolo\n",
      "Processing Record 564: kuche\n",
      "City not found. Skipping...\n",
      "Processing Record 565: lisburn\n",
      "Processing Record 566: oussouye\n",
      "Processing Record 567: kulachi\n",
      "Processing Record 568: arona\n",
      "Processing Record 569: hihifo\n",
      "City not found. Skipping...\n",
      "Processing Record 570: cayambe\n",
      "Processing Record 571: kamenskoye\n",
      "City not found. Skipping...\n",
      "Processing Record 572: laguna\n",
      "Processing Record 573: lagoa\n",
      "Processing Record 574: deer lake\n",
      "Processing Record 575: vysokogornyy\n",
      "Processing Record 576: umkomaas\n",
      "Processing Record 577: ji-parana\n",
      "City not found. Skipping...\n",
      "Processing Record 578: nago\n",
      "Processing Record 579: gamboma\n",
      "Processing Record 580: samalaeulu\n",
      "City not found. Skipping...\n",
      "Processing Record 581: berlevag\n",
      "Processing Record 582: yasothon\n",
      "Processing Record 583: dapaong\n",
      "Processing Record 584: carlagan\n",
      "Processing Record 585: raigarh\n",
      "Processing Record 586: havre-saint-pierre\n",
      "Processing Record 587: zachagansk\n",
      "City not found. Skipping...\n",
      "Processing Record 588: port moresby\n",
      "Processing Record 589: smithers\n",
      "Processing Record 590: kenai\n",
      "Processing Record 591: poum\n",
      "Processing Record 592: masjed-e soleyman\n",
      "City not found. Skipping...\n",
      "Processing Record 593: fairbanks\n",
      "Processing Record 594: oranjemund\n",
      "Processing Record 595: luchegorsk\n",
      "Processing Record 596: korla\n",
      "Processing Record 597: southbridge\n",
      "Processing Record 598: mercedes\n",
      "Processing Record 599: dayong\n",
      "Processing Record 600: lata\n",
      "Processing Record 601: meadow lake\n",
      "Processing Record 602: mangrol\n",
      "Processing Record 603: hamilton\n",
      "Processing Record 604: namatanai\n",
      "Processing Record 605: hawera\n",
      "Processing Record 606: loikaw\n",
      "Processing Record 607: vrede\n",
      "Processing Record 608: camabatela\n",
      "Processing Record 609: ossora\n",
      "Processing Record 610: katherine\n",
      "Processing Record 611: kutum\n",
      "Processing Record 612: saleaula\n",
      "City not found. Skipping...\n",
      "Processing Record 613: tura\n",
      "Processing Record 614: salina\n",
      "Processing Record 615: moron\n",
      "Processing Record 616: nur\n",
      "Processing Record 617: xai-xai\n",
      "Processing Record 618: shirokiy\n",
      "Processing Record 619: torbay\n",
      "-----------------------------\n",
      "Data Retrieval Complete \n",
      "-----------------------------\n"
     ]
    }
   ],
   "source": [
    "#Clouds.all, Sys.country, dt, main.humidity, Coord.lng, coord.lat, main.temp_max, wind.speed\n",
    "new_cities = []\n",
    "cloudiness = [] \n",
    "country = [] \n",
    "date = [] \n",
    "humidity =[]\n",
    "lat = []\n",
    "lng = [] \n",
    "max_temp = [] \n",
    "wind_speed = []\n",
    "\n",
    "print(\"Beginning Data Retrieval\")\n",
    "print(\"-----------------------------\")\n",
    "url = \"http://api.openweathermap.org/data/2.5/weather?\"\n",
    "units = \"imperial\"\n",
    "count = 1\n",
    "record = 1\n",
    "\n",
    "query_url = f\"{url}appid={weather_api_key}&units={units}&q=\"\n",
    "\n",
    "for city in cities:\n",
    "   \n",
    "    weather_response = requests.get(query_url + city).json()\n",
    "    \n",
    "    try:\n",
    "          #if record <= 50:\n",
    "        print(f\"Processing Record {record}: {city}\")         #of Set {count} | \n",
    "        record += 1\n",
    "        #else:\n",
    "            #record = 1\n",
    "            #count += 1  \n",
    "\n",
    "        cloudiness.append(weather_response[\"clouds\"][\"all\"])\n",
    "        country.append(weather_response[\"sys\"][\"country\"])\n",
    "        date.append(weather_response[\"dt\"])\n",
    "        humidity.append(weather_response[\"main\"][\"humidity\"])\n",
    "        lat.append(weather_response[\"coord\"][\"lat\"])\n",
    "        lng.append(weather_response[\"coord\"][\"lon\"])\n",
    "        max_temp.append(weather_response[\"main\"][\"temp_max\"])\n",
    "        wind_speed.append(weather_response[\"wind\"][\"speed\"])\n",
    "        new_cities.append(weather_response[\"name\"]) \n",
    "       \n",
    "        \n",
    "    except:\n",
    "        print(f\"City not found. Skipping...\")\n",
    "        pass\n",
    "\n",
    "print(f\"-----------------------------\") \n",
    "print(f\"Data Retrieval Complete \")\n",
    "print(f\"-----------------------------\")\n"
   ]
  },
  {
   "cell_type": "markdown",
   "metadata": {},
   "source": [
    "### Convert Raw Data to DataFrame\n",
    "* Export the city data into a .csv.\n",
    "* Display the DataFrame"
   ]
  },
  {
   "cell_type": "code",
   "execution_count": 4,
   "metadata": {},
   "outputs": [
    {
     "name": "stdout",
     "output_type": "stream",
     "text": [
      "Cities: 571\n",
      "Cloudiness: 571\n",
      "Country: 571\n",
      "Date: 571\n",
      "Humidity: 571\n",
      "Lat: 571\n",
      "Lon: 571\n",
      "Max Temp: 571\n",
      "Wind Speed: 571\n"
     ]
    }
   ],
   "source": [
    "print(f\"Cities: {len(new_cities)}\")\n",
    "print(f\"Cloudiness: {len(cloudiness)}\")\n",
    "print(f\"Country: {len(country)}\")\n",
    "print(f\"Date: {len(date)}\")\n",
    "print(f\"Humidity: {len(humidity)}\")\n",
    "print(f\"Lat: {len(lat)}\")\n",
    "print(f\"Lon: {len(lng)}\")\n",
    "print(f\"Max Temp: {len(max_temp)}\")\n",
    "print(f\"Wind Speed: {len(wind_speed)}\")\n"
   ]
  },
  {
   "cell_type": "code",
   "execution_count": 5,
   "metadata": {},
   "outputs": [
    {
     "data": {
      "text/html": [
       "<div>\n",
       "<style scoped>\n",
       "    .dataframe tbody tr th:only-of-type {\n",
       "        vertical-align: middle;\n",
       "    }\n",
       "\n",
       "    .dataframe tbody tr th {\n",
       "        vertical-align: top;\n",
       "    }\n",
       "\n",
       "    .dataframe thead th {\n",
       "        text-align: right;\n",
       "    }\n",
       "</style>\n",
       "<table border=\"1\" class=\"dataframe\">\n",
       "  <thead>\n",
       "    <tr style=\"text-align: right;\">\n",
       "      <th></th>\n",
       "      <th>City</th>\n",
       "      <th>Cloudiness</th>\n",
       "      <th>Country</th>\n",
       "      <th>Date</th>\n",
       "      <th>Humidity</th>\n",
       "      <th>Lat</th>\n",
       "      <th>Lon</th>\n",
       "      <th>Max Temp</th>\n",
       "      <th>Wind Speed</th>\n",
       "    </tr>\n",
       "  </thead>\n",
       "  <tbody>\n",
       "    <tr>\n",
       "      <th>0</th>\n",
       "      <td>Barrow</td>\n",
       "      <td>40</td>\n",
       "      <td>US</td>\n",
       "      <td>1584225863</td>\n",
       "      <td>77</td>\n",
       "      <td>71.29</td>\n",
       "      <td>-156.79</td>\n",
       "      <td>6.80</td>\n",
       "      <td>27.51</td>\n",
       "    </tr>\n",
       "    <tr>\n",
       "      <th>1</th>\n",
       "      <td>Ushuaia</td>\n",
       "      <td>40</td>\n",
       "      <td>AR</td>\n",
       "      <td>1584225855</td>\n",
       "      <td>62</td>\n",
       "      <td>-54.80</td>\n",
       "      <td>-68.30</td>\n",
       "      <td>53.60</td>\n",
       "      <td>6.93</td>\n",
       "    </tr>\n",
       "    <tr>\n",
       "      <th>2</th>\n",
       "      <td>Bluff</td>\n",
       "      <td>100</td>\n",
       "      <td>NZ</td>\n",
       "      <td>1584225854</td>\n",
       "      <td>75</td>\n",
       "      <td>-46.60</td>\n",
       "      <td>168.33</td>\n",
       "      <td>61.00</td>\n",
       "      <td>4.00</td>\n",
       "    </tr>\n",
       "    <tr>\n",
       "      <th>3</th>\n",
       "      <td>Vaini</td>\n",
       "      <td>75</td>\n",
       "      <td>TO</td>\n",
       "      <td>1584226358</td>\n",
       "      <td>79</td>\n",
       "      <td>-21.20</td>\n",
       "      <td>-175.20</td>\n",
       "      <td>86.00</td>\n",
       "      <td>18.34</td>\n",
       "    </tr>\n",
       "    <tr>\n",
       "      <th>4</th>\n",
       "      <td>Kapit</td>\n",
       "      <td>100</td>\n",
       "      <td>MY</td>\n",
       "      <td>1584226358</td>\n",
       "      <td>99</td>\n",
       "      <td>2.02</td>\n",
       "      <td>112.93</td>\n",
       "      <td>74.07</td>\n",
       "      <td>1.88</td>\n",
       "    </tr>\n",
       "  </tbody>\n",
       "</table>\n",
       "</div>"
      ],
      "text/plain": [
       "      City  Cloudiness Country        Date  Humidity    Lat     Lon  Max Temp  \\\n",
       "0   Barrow          40      US  1584225863        77  71.29 -156.79      6.80   \n",
       "1  Ushuaia          40      AR  1584225855        62 -54.80  -68.30     53.60   \n",
       "2    Bluff         100      NZ  1584225854        75 -46.60  168.33     61.00   \n",
       "3    Vaini          75      TO  1584226358        79 -21.20 -175.20     86.00   \n",
       "4    Kapit         100      MY  1584226358        99   2.02  112.93     74.07   \n",
       "\n",
       "   Wind Speed  \n",
       "0       27.51  \n",
       "1        6.93  \n",
       "2        4.00  \n",
       "3       18.34  \n",
       "4        1.88  "
      ]
     },
     "execution_count": 5,
     "metadata": {},
     "output_type": "execute_result"
    }
   ],
   "source": [
    "weather_dict = {\n",
    "    \"City\": new_cities,\n",
    "    \"Cloudiness\": cloudiness,\n",
    "    \"Country\": country,\n",
    "    \"Date\": date,\n",
    "    \"Humidity\": humidity,\n",
    "    \"Lat\": lat,\n",
    "    \"Lon\":lng,\n",
    "    \"Max Temp\": max_temp,\n",
    "    \"Wind Speed\": wind_speed\n",
    "}\n",
    "\n",
    "weather_data_final = pd.DataFrame(weather_dict)\n",
    "weather_data_final.to_csv(\"../output_data/weather_data_final.csv\", encoding = \"utf-8\", index=False)\n",
    "weather_data_final.head()"
   ]
  },
  {
   "cell_type": "markdown",
   "metadata": {},
   "source": [
    "### Plotting the Data\n",
    "* Use proper labeling of the plots using plot titles (including date of analysis) and axes labels.\n",
    "* Save the plotted figures as .pngs."
   ]
  },
  {
   "cell_type": "markdown",
   "metadata": {},
   "source": [
    "#### Latitude vs. Temperature Plot"
   ]
  },
  {
   "cell_type": "code",
   "execution_count": 10,
   "metadata": {},
   "outputs": [],
   "source": [
    "current_date = datetime.now()"
   ]
  },
  {
   "cell_type": "code",
   "execution_count": 17,
   "metadata": {},
   "outputs": [
    {
     "data": {
      "image/png": "[encoded data removed]",
      "text/plain": [
       "<Figure size 432x288 with 1 Axes>"
      ]
     },
     "metadata": {
      "needs_background": "light"
     },
     "output_type": "display_data"
    }
   ],
   "source": [
    "x_axis = lat\n",
    "y_axis = max_temp\n",
    "plt.scatter(x_axis, y_axis, marker=\"o\", facecolors=\"green\", edgecolors=\"black\")\n",
    "plt.xlabel(\"Latitude\")\n",
    "plt.ylabel(\"Max Temperature (F)\")\n",
    "plt.title(\"City Latitude vs. Max Temperature (F) (%s/%s/%s\" % (current_date.month, current_date.day, current_date.year) + \")\")\n",
    "\n",
    "plt.grid(True)\n",
    "plt.savefig(\"../Images/TemperaturePlot.png\")\n",
    "plt.show()"
   ]
  },
  {
   "cell_type": "markdown",
   "metadata": {},
   "source": [
    "#### Latitude vs. Humidity Plot"
   ]
  },
  {
   "cell_type": "code",
   "execution_count": 21,
   "metadata": {},
   "outputs": [
    {
     "data": {
      "image/png": "[encoded data removed]",
      "text/plain": [
       "<Figure size 432x288 with 1 Axes>"
      ]
     },
     "metadata": {
      "needs_background": "light"
     },
     "output_type": "display_data"
    }
   ],
   "source": [
    "plt.scatter(x_axis, humidity, marker = \"o\")\n",
    "plt.xlabel(\"Latitude\")\n",
    "plt.ylabel(\"Humidity (%)\")\n",
    "plt.title(\"City Latitude vs. Humidity (%s/%s/%s\" % (current_date.month, current_date.day, current_date.year) + \")\")\n",
    "\n",
    "plt.grid(True)\n",
    "plt.savefig(\"../Images/HumidityPlot.png\")\n",
    "plt.show()"
   ]
  },
  {
   "cell_type": "markdown",
   "metadata": {},
   "source": [
    "#### Latitude vs. Cloudiness Plot"
   ]
  },
  {
   "cell_type": "code",
   "execution_count": 22,
   "metadata": {},
   "outputs": [
    {
     "data": {
      "image/png": "[encoded data removed]",
      "text/plain": [
       "<Figure size 432x288 with 1 Axes>"
      ]
     },
     "metadata": {
      "needs_background": "light"
     },
     "output_type": "display_data"
    }
   ],
   "source": [
    "plt.scatter(x_axis, cloudiness, marker = \"o\")\n",
    "plt.xlabel(\"Latitude\")\n",
    "plt.ylabel(\"Cloudiness (%)\")\n",
    "plt.title(\"City Latitude vs. Cloudiness (%s/%s/%s\" % (current_date.month, current_date.day, current_date.year) + \")\")\n",
    "\n",
    "plt.grid(True)\n",
    "plt.savefig(\"../Images/CloudinessPlot.png\")\n",
    "plt.show()"
   ]
  },
  {
   "cell_type": "markdown",
   "metadata": {},
   "source": [
    "#### Latitude vs. Wind Speed Plot"
   ]
  },
  {
   "cell_type": "code",
   "execution_count": 23,
   "metadata": {},
   "outputs": [
    {
     "data": {
      "image/png": "[encoded data removed]",
      "text/plain": [
       "<Figure size 432x288 with 1 Axes>"
      ]
     },
     "metadata": {
      "needs_background": "light"
     },
     "output_type": "display_data"
    }
   ],
   "source": [
    "plt.scatter(x_axis, wind_speed, marker = \"o\")\n",
    "plt.xlabel(\"Latitude\")\n",
    "plt.ylabel(\"Wind Speed (mph)\")\n",
    "plt.title(\"City Latitude vs. Wind Speed (%s/%s/%s\" % (current_date.month, current_date.day, current_date.year) + \")\")\n",
    "\n",
    "plt.grid(True)\n",
    "plt.savefig(\"../Images/WindSpeedPlot.png\")\n",
    "plt.show()"
   ]
  },
  {
   "cell_type": "markdown",
   "metadata": {},
   "source": [
    "## Linear Regression"
   ]
  },
  {
   "cell_type": "code",
   "execution_count": 31,
   "metadata": {},
   "outputs": [],
   "source": [
    "# OPTIONAL: Create a function to create Linear Regression plots\n",
    "# create a function called LinearRegressionPlot with 6 variables - xdata, ydata, xlab (label for x-axis),\n",
    "# ylab (label for y axis), labpos (position of the label), immagefig (sav file location and name)\n",
    "\n",
    "def linearregressionplot(xdata,ydata,xlab,ylab,labpo,imagefig):\n",
    "    (slope, intercept, rvalue, pvalue, stderr) = linregress(xdata, ydata)\n",
    "    print(f\"The r-squared is: {rvalue}\")\n",
    "    regress_values = xdata * slope + intercept\n",
    "    line_eq = \"y = \" + str(round(slope,2)) + \"x + \" + str(round(intercept,2))\n",
    "    plt.scatter(xdata,ydata)\n",
    "    plt.plot(xdata,regress_values,\"r-\")\n",
    "    plt.annotate(line_eq,labpos,fontsize=15,color=\"red\")\n",
    "    plt.xlabel(xlab)\n",
    "    plt.ylabel(ylab)\n",
    "    plt.savefig(f\"../Images/{imagefig}.png\")\n",
    "    plt.show()"
   ]
  },
  {
   "cell_type": "code",
   "execution_count": 32,
   "metadata": {},
   "outputs": [
    {
     "data": {
      "text/html": [
       "<div>\n",
       "<style scoped>\n",
       "    .dataframe tbody tr th:only-of-type {\n",
       "        vertical-align: middle;\n",
       "    }\n",
       "\n",
       "    .dataframe tbody tr th {\n",
       "        vertical-align: top;\n",
       "    }\n",
       "\n",
       "    .dataframe thead th {\n",
       "        text-align: right;\n",
       "    }\n",
       "</style>\n",
       "<table border=\"1\" class=\"dataframe\">\n",
       "  <thead>\n",
       "    <tr style=\"text-align: right;\">\n",
       "      <th></th>\n",
       "      <th>City</th>\n",
       "      <th>Cloudiness</th>\n",
       "      <th>Country</th>\n",
       "      <th>Date</th>\n",
       "      <th>Humidity</th>\n",
       "      <th>Lat</th>\n",
       "      <th>Lon</th>\n",
       "      <th>Max Temp</th>\n",
       "      <th>Wind Speed</th>\n",
       "    </tr>\n",
       "  </thead>\n",
       "  <tbody>\n",
       "    <tr>\n",
       "      <th>1</th>\n",
       "      <td>Ushuaia</td>\n",
       "      <td>40</td>\n",
       "      <td>AR</td>\n",
       "      <td>1584225855</td>\n",
       "      <td>62</td>\n",
       "      <td>-54.80</td>\n",
       "      <td>-68.30</td>\n",
       "      <td>53.6</td>\n",
       "      <td>6.93</td>\n",
       "    </tr>\n",
       "    <tr>\n",
       "      <th>2</th>\n",
       "      <td>Bluff</td>\n",
       "      <td>100</td>\n",
       "      <td>NZ</td>\n",
       "      <td>1584225854</td>\n",
       "      <td>75</td>\n",
       "      <td>-46.60</td>\n",
       "      <td>168.33</td>\n",
       "      <td>61.0</td>\n",
       "      <td>4.00</td>\n",
       "    </tr>\n",
       "    <tr>\n",
       "      <th>3</th>\n",
       "      <td>Vaini</td>\n",
       "      <td>75</td>\n",
       "      <td>TO</td>\n",
       "      <td>1584226358</td>\n",
       "      <td>79</td>\n",
       "      <td>-21.20</td>\n",
       "      <td>-175.20</td>\n",
       "      <td>86.0</td>\n",
       "      <td>18.34</td>\n",
       "    </tr>\n",
       "    <tr>\n",
       "      <th>7</th>\n",
       "      <td>Puerto Ayora</td>\n",
       "      <td>20</td>\n",
       "      <td>EC</td>\n",
       "      <td>1584226202</td>\n",
       "      <td>70</td>\n",
       "      <td>-0.74</td>\n",
       "      <td>-90.35</td>\n",
       "      <td>84.2</td>\n",
       "      <td>8.05</td>\n",
       "    </tr>\n",
       "    <tr>\n",
       "      <th>12</th>\n",
       "      <td>Punta Arenas</td>\n",
       "      <td>75</td>\n",
       "      <td>CL</td>\n",
       "      <td>1584226288</td>\n",
       "      <td>67</td>\n",
       "      <td>-53.15</td>\n",
       "      <td>-70.92</td>\n",
       "      <td>57.2</td>\n",
       "      <td>16.11</td>\n",
       "    </tr>\n",
       "  </tbody>\n",
       "</table>\n",
       "</div>"
      ],
      "text/plain": [
       "            City  Cloudiness Country        Date  Humidity    Lat     Lon  \\\n",
       "1        Ushuaia          40      AR  1584225855        62 -54.80  -68.30   \n",
       "2          Bluff         100      NZ  1584225854        75 -46.60  168.33   \n",
       "3          Vaini          75      TO  1584226358        79 -21.20 -175.20   \n",
       "7   Puerto Ayora          20      EC  1584226202        70  -0.74  -90.35   \n",
       "12  Punta Arenas          75      CL  1584226288        67 -53.15  -70.92   \n",
       "\n",
       "    Max Temp  Wind Speed  \n",
       "1       53.6        6.93  \n",
       "2       61.0        4.00  \n",
       "3       86.0       18.34  \n",
       "7       84.2        8.05  \n",
       "12      57.2       16.11  "
      ]
     },
     "execution_count": 32,
     "metadata": {},
     "output_type": "execute_result"
    }
   ],
   "source": [
    "# Create Northern and Southern Hemisphere DataFrames\n",
    "# northern hemisphere \n",
    "northern = weather_data_final.loc[weather_data_final[\"Lat\"] >= 0.0]\n",
    "#southern hemisphere\n",
    "southern = weather_data_final.loc[weather_data_final[\"Lat\"] < 0.0]\n"
   ]
  },
  {
   "cell_type": "markdown",
   "metadata": {},
   "source": [
    "####  Northern Hemisphere - Max Temp vs. Latitude Linear Regression"
   ]
  },
  {
   "cell_type": "code",
   "execution_count": 39,
   "metadata": {},
   "outputs": [
    {
     "name": "stdout",
     "output_type": "stream",
     "text": [
      "The r-squared is: -0.8910576910030769\n"
     ]
    },
    {
     "data": {
      "image/png": "[encoded data removed]",
      "text/plain": [
       "<Figure size 432x288 with 1 Axes>"
      ]
     },
     "metadata": {
      "needs_background": "light"
     },
     "output_type": "display_data"
    }
   ],
   "source": [
    "xdata = northern[\"Lat\"]\n",
    "ydata = northern[\"Max Temp\"]\n",
    "xlab = \"Latitude\"\n",
    "ylab = \"Max Temp (F)\"\n",
    "labpos = (6,5)\n",
    "imagefig = \"NH - Max Temp (F) vs. Latitude Regression\"\n",
    "linearregressionplot(xdata,ydata,xlab,ylab,labpos,imagefig)"
   ]
  },
  {
   "cell_type": "markdown",
   "metadata": {},
   "source": [
    "####  Southern Hemisphere - Max Temp vs. Latitude Linear Regression"
   ]
  },
  {
   "cell_type": "code",
   "execution_count": 40,
   "metadata": {},
   "outputs": [
    {
     "name": "stdout",
     "output_type": "stream",
     "text": [
      "The r-squared is: 0.621540631402806\n"
     ]
    },
    {
     "data": {
      "image/png": "[encoded data removed]",
      "text/plain": [
       "<Figure size 432x288 with 1 Axes>"
      ]
     },
     "metadata": {
      "needs_background": "light"
     },
     "output_type": "display_data"
    }
   ],
   "source": [
    "xdata = southern[\"Lat\"]\n",
    "ydata = southern[\"Max Temp\"]\n",
    "xlab = \"Latitude\"\n",
    "ylab = \"Max Temp(F)\"\n",
    "labpos = (-30,60)\n",
    "imagefig = \"SH - Max Temp (F) vs. Latitude Regression\"\n",
    "linearregressionplot(xdata,ydata,xlab,ylab,labpos,imagefig)"
   ]
  },
  {
   "cell_type": "markdown",
   "metadata": {},
   "source": [
    "####  Northern Hemisphere - Humidity (%) vs. Latitude Linear Regression"
   ]
  },
  {
   "cell_type": "code",
   "execution_count": 41,
   "metadata": {},
   "outputs": [
    {
     "name": "stdout",
     "output_type": "stream",
     "text": [
      "The r-squared is: 0.234874225579394\n"
     ]
    },
    {
     "data": {
      "image/png": "[encoded data removed]",
      "text/plain": [
       "<Figure size 432x288 with 1 Axes>"
      ]
     },
     "metadata": {
      "needs_background": "light"
     },
     "output_type": "display_data"
    }
   ],
   "source": [
    "xdata = northern[\"Lat\"]\n",
    "ydata = northern[\"Humidity\"]\n",
    "xlab = \"Latitude\"\n",
    "ylab = \"Humidity\"\n",
    "labpos = (30,10)\n",
    "imagefig = \"NH - Humidity vs. Latitude Regression\"\n",
    "linearregressionplot(xdata,ydata,xlab,ylab,labpos,imagefig)"
   ]
  },
  {
   "cell_type": "markdown",
   "metadata": {},
   "source": [
    "####  Southern Hemisphere - Humidity (%) vs. Latitude Linear Regression"
   ]
  },
  {
   "cell_type": "code",
   "execution_count": 43,
   "metadata": {},
   "outputs": [
    {
     "name": "stdout",
     "output_type": "stream",
     "text": [
      "The r-squared is: 0.32032201741552907\n"
     ]
    },
    {
     "data": {
      "image/png": "[encoded data removed]",
      "text/plain": [
       "<Figure size 432x288 with 1 Axes>"
      ]
     },
     "metadata": {
      "needs_background": "light"
     },
     "output_type": "display_data"
    }
   ],
   "source": [
    "xdata = southern[\"Lat\"]\n",
    "ydata = southern[\"Humidity\"]\n",
    "xlab = \"Latitude\"\n",
    "ylab = \"Humidity\"\n",
    "labpos = (-30,40)\n",
    "imagefig = \"SH - Humidity vs. Latitude Regression\"\n",
    "linearregressionplot(xdata,ydata,xlab,ylab,labpos,imagefig)"
   ]
  },
  {
   "cell_type": "markdown",
   "metadata": {},
   "source": [
    "####  Northern Hemisphere - Cloudiness (%) vs. Latitude Linear Regression"
   ]
  },
  {
   "cell_type": "code",
   "execution_count": 44,
   "metadata": {},
   "outputs": [
    {
     "name": "stdout",
     "output_type": "stream",
     "text": [
      "The r-squared is: 0.16469887979023695\n"
     ]
    },
    {
     "data": {
      "image/png": "[encoded data removed]",
      "text/plain": [
       "<Figure size 432x288 with 1 Axes>"
      ]
     },
     "metadata": {
      "needs_background": "light"
     },
     "output_type": "display_data"
    }
   ],
   "source": [
    "xdata = northern[\"Lat\"]\n",
    "ydata = northern[\"Cloudiness\"]\n",
    "xlab = \"Latitude\"\n",
    "ylab = \"Cloudiness\"\n",
    "labpos = (30,10)\n",
    "imagefig = \"NH - Cloudiness vs. Latitude Regression\"\n",
    "linearregressionplot(xdata,ydata,xlab,ylab,labpos,imagefig)"
   ]
  },
  {
   "cell_type": "markdown",
   "metadata": {},
   "source": [
    "####  Southern Hemisphere - Cloudiness (%) vs. Latitude Linear Regression"
   ]
  },
  {
   "cell_type": "code",
   "execution_count": 46,
   "metadata": {},
   "outputs": [
    {
     "name": "stdout",
     "output_type": "stream",
     "text": [
      "The r-squared is: 0.32032201741552907\n"
     ]
    },
    {
     "data": {
      "image/png": "[encoded data removed]",
      "text/plain": [
       "<Figure size 432x288 with 1 Axes>"
      ]
     },
     "metadata": {
      "needs_background": "light"
     },
     "output_type": "display_data"
    }
   ],
   "source": [
    "xdata = southern[\"Lat\"]\n",
    "ydata = southern[\"Humidity\"]\n",
    "xlab = \"Latitude\"\n",
    "ylab = \"Humidity\"\n",
    "labpos = (-40,60)\n",
    "imagefig = \"SH - Humidity vs. Latitude Regression\"\n",
    "linearregressionplot(xdata,ydata,xlab,ylab,labpos,imagefig)"
   ]
  },
  {
   "cell_type": "markdown",
   "metadata": {},
   "source": [
    "####  Northern Hemisphere - Wind Speed (mph) vs. Latitude Linear Regression"
   ]
  },
  {
   "cell_type": "code",
   "execution_count": 47,
   "metadata": {},
   "outputs": [
    {
     "name": "stdout",
     "output_type": "stream",
     "text": [
      "The r-squared is: 0.20167622638314822\n"
     ]
    },
    {
     "data": {
      "image/png": "[encoded data removed]",
      "text/plain": [
       "<Figure size 432x288 with 1 Axes>"
      ]
     },
     "metadata": {
      "needs_background": "light"
     },
     "output_type": "display_data"
    }
   ],
   "source": [
    "xdata = northern[\"Lat\"]\n",
    "ydata = northern[\"Wind Speed\"]\n",
    "xlab = \"Latitude\"\n",
    "ylab = \"Wind Speed\"\n",
    "labpos = (30,25)\n",
    "imagefig = \"NH - Wind Speed vs. Latitude Regression\"\n",
    "linearregressionplot(xdata,ydata,xlab,ylab,labpos,imagefig)"
   ]
  },
  {
   "cell_type": "markdown",
   "metadata": {},
   "source": [
    "####  Southern Hemisphere - Wind Speed (mph) vs. Latitude Linear Regression"
   ]
  },
  {
   "cell_type": "code",
   "execution_count": 48,
   "metadata": {},
   "outputs": [
    {
     "name": "stdout",
     "output_type": "stream",
     "text": [
      "The r-squared is: -0.1773466677841557\n"
     ]
    },
    {
     "data": {
      "image/png": "[encoded data removed]",
      "text/plain": [
       "<Figure size 432x288 with 1 Axes>"
      ]
     },
     "metadata": {
      "needs_background": "light"
     },
     "output_type": "display_data"
    }
   ],
   "source": [
    "xdata = southern[\"Lat\"]\n",
    "ydata = southern[\"Wind Speed\"]\n",
    "xlab = \"Latitude\"\n",
    "ylab = \"Wind Speed\"\n",
    "labpos = (-30,25)\n",
    "imagefig = \"SH - Wind Speed vs. Latitude Regression\"\n",
    "linearregressionplot(xdata,ydata,xlab,ylab,labpos,imagefig)"
   ]
  },
  {
   "cell_type": "code",
   "execution_count": null,
   "metadata": {},
   "outputs": [],
   "source": []
  }
 ],
 "metadata": {
  "anaconda-cloud": {},
  "kernel_info": {
   "name": "python3"
  },
  "kernelspec": {
   "display_name": "Python 3.7.6 64-bit ('PythonData': conda)",
   "language": "python",
   "name": "python37664bitpythondataconda45bb40860bfe4aa0b5c96f5dfc589daf"
  },
  "language_info": {
   "codemirror_mode": {
    "name": "ipython",
    "version": 3
   },
   "file_extension": ".py",
   "mimetype": "text/x-python",
   "name": "python",
   "nbconvert_exporter": "python",
   "pygments_lexer": "ipython3",
   "version": "3.7.6"
  },
  "latex_envs": {
   "LaTeX_envs_menu_present": true,
   "autoclose": false,
   "autocomplete": true,
   "bibliofile": "biblio.bib",
   "cite_by": "apalike",
   "current_citInitial": 1,
   "eqLabelWithNumbers": true,
   "eqNumInitial": 1,
   "hotkeys": {
    "equation": "Ctrl-E",
    "itemize": "Ctrl-I"
   },
   "labels_anchors": false,
   "latex_user_defs": false,
   "report_style_numbering": false,
   "user_envs_cfg": false
  },
  "nteract": {
   "version": "0.12.3"
  }
 },
 "nbformat": 4,
 "nbformat_minor": 2
}
